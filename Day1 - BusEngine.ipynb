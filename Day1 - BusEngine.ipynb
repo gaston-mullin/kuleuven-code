{
 "cells": [
  {
   "cell_type": "markdown",
   "metadata": {},
   "source": [
    "### Day 1 - Lectures on Structural Econometrics for Dynamic Discrete Choice Models "
   ]
  },
  {
   "cell_type": "markdown",
   "metadata": {},
   "source": [
    "## 1 - Random utility model\n",
    "\n",
    "Let us first review a random utility model for discrete choices in a static setting.\n",
    "\n",
    "Consider an indidivual making a decision on whether to take a binary action, for example to buy a product. There is a state $x$ and an idiosyincratic shock $\\epsilon$. Utility is additively separable in the state and the idiosyncratic shock.\n",
    "\n",
    "- Let $U_1$ be the utility from purchasing the good which can be represented as: $$U_1(x,\\epsilon) = u_1(x) + \\epsilon_1 $$\n",
    "- Not buying the product has a deterministic component normalized to zero: $u_0 = 0$, $U_2(x,\\epsilon) = \\epsilon_2$.\n",
    "- The idiosyncratic utility draws are iid from a Type I Extreme Value, which in turn means that $\\epsilon_1 - \\epsilon_0$ follows a logistic distribution.\n",
    "- Hence $P(buy) = P(U_1(x,\\epsilon) > U_2(x,\\epsilon)) = P(\\epsilon_1 - \\epsilon_0 > u_1(x) - u_0(x)) = \\frac{exp(u_1(x) - u_0(x))}{1 + exp(u_1(x) - u_0(x))}$\n",
    "- Furthermore the deterministic component $u_1$ can be parametrizedL $u_1(x) = \\theta_0 + \\theta_1 x$\n",
    "\n",
    "If we observe $N$ individuals decisions, then $\\mathbf{\\theta} = (\\theta_0,\\theta_1)$ can be estimated by maximum likelihood. Denoting $d_n$ as the decision of individual 1, which takes value 0 when she does not purchase the product and value 1 when she does gives the likelihood contribution.\n",
    "$$ \\mathcal{L}_n(x_n)=\\Big( \\frac{\\exp(u_1(x_n) - u_0(x_n)) }{1+\\exp(u_1(x_n) - u_0(x_n))} \\Big)^{d_n} \\times \\Big( \\frac{1 }{1+\\exp(u_1(x_n) - u_0(x_n))} \\Big)^{1-d_n} $$\n",
    "\n",
    "Then, replacing the expression for $u_1(x)$ (and the normalization for $u_0(x)$), taking the product across individuals and the log:\n",
    "\n",
    "$$ \\mathbf{\\theta} = \\arg \\max_{\\mathbf{\\theta}} \\sum_{i=1}^N \\{d_n=1\\} \\times(\\theta_0 + \\theta_1 x_n) - \\log(1+\\exp(\\theta_0 + \\theta_1 x_n) $$\n"
   ]
  },
  {
   "cell_type": "markdown",
   "metadata": {},
   "source": [
    "# 1-1 From static to dynamic\n",
    "\n",
    "If we consider a case where the problem is dynamic and agents are forward-looking and conditional independence holds, the utility of choosing action $j$ can be written as the sum of current flow utility plus the expected continuation value.\n",
    "\n",
    "$$v_1 = u_1(x,\\epsilon) + \\beta E[V(x'|d = 1)]$$\n",
    "\n",
    "Then, if all $\\epsilon_j$ follow a Type I Extreme Value distribution, naturally\n",
    "\n",
    "$$P(d = 1 | x) = \\frac{\\exp\\big(u_1(x) + \\beta E[V(x') | d=1]\\big)}{\\sum_{j=0}^1\\exp\\big(u_j(x) + \\beta E[V(x') | d=j]\\big)}$$\n",
    "\n",
    "The presence of the future value component in the choice probabilities substantially complicates estimation of the random utility mode, and the main goal of dynamic discrete choice estimators is to deal with this future value term."
   ]
  },
  {
   "cell_type": "markdown",
   "metadata": {},
   "source": [
    "## 2 - The Bus engine replacement model\n",
    "\n",
    "Consider the model of bus engine replacement, as studied by Rust (1987). Mr. Zurcher maintains a fleet of buses and is in charge of maintaining it and replacing the bus engines. As the mileage in the buses increases maintenance becomes more costly. Mr. Zurcher can replace the engine, which takes the mileage of the bus to zero, but replacing the engine is costly, more so than a one period maintenance. The problem that Mr. Zurcher faces is when to change the engines.\n",
    "\n",
    "- There are $N$ buses that are observed in $T$ months.\n",
    "- In each period $t$ bus engine can be replaced $d_{1t} = 1$ or not replaced $d_{2t} = 1$. Both actions are mutually exclusive.\n",
    "- Each bus has a permanent state $s$ and has a mileage $x_t$ which increases overtime when the engine is not replaced and resets to 1 when the engine is replaced. Then the state transition when the engine is replaced is denoted as $f_{1}(1|x_t) = 1$.\n",
    "- The state transition when the engine is replaced follows a discretized exponential distribution, with a maximum mileage $\\bar{x}$, after which no further mileage is accumulated.\n",
    "$$ f_2(x_{t+1} | x_t) = \\begin{cases}\n",
    "\\exp\\big(-(x_{t+1} - x_t)\\big) - \\exp\\big(-(x_{t+1} + \\Delta_x - x_t) & \\text{if } x_t < x_{t+1} < \\bar{x} \\\\\n",
    "\\exp\\big(-(\\overline{x} - x_t)\\big) & \\text{if } x_{t+1}\\geq\\bar{x} \\\\\n",
    "0 & \\text{otherwise}\n",
    "\\end{cases}$$\n",
    "- The (deterministic) utility of replacing the bus engine is normalized to zero. $u_1(x,s) = 0$ .\n",
    "- The utility of not replacing the engine is given by $u_2(x_t,s) = \\theta_1 + \\theta_2 x_t + \\theta_3 s$ \n",
    "- Let $z_t \\equiv (x_t,s)$ denote the time-varying state variable together with the permanent bus type.\n",
    "- The ex-ante value function is given by \n",
    "$$V_t(z_t) \\equiv E \\Big\\{\\sum_{\\tau=t}^{\\overline{T}} \\sum_{j=1}^2 \\beta^{\\tau - t - 1} d_{jt}(z_{\\tau} \\epsilon_{\\tau}) (u_{j}(z_{\\tau}) + \\epsilon_{j\\tau})  \\Big\\}$$\n",
    "- The conditional value function for choice $j$ is given by the utility flow (less the utility shock) added to the discounted value function:\n",
    "$$ v_{1}(z_t) = \\beta \\sum_{x=1}^{\\bar{X}} V(x,s) f_1(x | x_{t}) $$\n",
    "$$ v_{2}(z_t) = \\theta_1 + \\theta_2x_t + \\theta_3 s + \\beta \\sum_{x=1}^{\\bar{X}} V(x,s) f_2(x | x_{t}) $$\n",
    "- The difference between the value function $V(z_t)$ and the conditional value function $v_{j}(z_t)$ is given by the value function correction $\\psi_{j}(z_t), which in the context of Type I Extreme Value distribution for the utility shock is results in:\n",
    "$$ \\psi_j(p(z_t)) = \\gamma - log(p_j(z_t)) $$ \n",
    "\n",
    "With $\\gamma \\approx 0.577$\n"
   ]
  },
  {
   "cell_type": "markdown",
   "metadata": {},
   "source": []
  },
  {
   "cell_type": "markdown",
   "metadata": {},
   "source": []
  }
 ],
 "metadata": {
  "kernelspec": {
   "display_name": "Julia 1.9.4",
   "language": "julia",
   "name": "julia-1.9"
  },
  "language_info": {
   "file_extension": ".jl",
   "mimetype": "application/julia",
   "name": "julia",
   "version": "1.9.4"
  }
 },
 "nbformat": 4,
 "nbformat_minor": 2
}
